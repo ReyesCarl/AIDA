{
  "nbformat": 4,
  "nbformat_minor": 0,
  "metadata": {
    "colab": {
      "name": "NumethDemo1.ipynb",
      "provenance": [],
      "collapsed_sections": [],
      "authorship_tag": "ABX9TyM2XmV1lFD5mdtExKAKPgTK",
      "include_colab_link": true
    },
    "kernelspec": {
      "name": "python3",
      "display_name": "Python 3"
    },
    "language_info": {
      "name": "python"
    }
  },
  "cells": [
    {
      "cell_type": "markdown",
      "metadata": {
        "id": "view-in-github",
        "colab_type": "text"
      },
      "source": [
        "<a href=\"https://colab.research.google.com/github/ReyesCarl/AIDA/blob/main/NumethDemo1.ipynb\" target=\"_parent\"><img src=\"https://colab.research.google.com/assets/colab-badge.svg\" alt=\"Open In Colab\"/></a>"
      ]
    },
    {
      "cell_type": "markdown",
      "metadata": {
        "id": "GugwhCDBOclI"
      },
      "source": [
        "#Numerical Method\n",
        "##Week 1"
      ]
    },
    {
      "cell_type": "code",
      "metadata": {
        "colab": {
          "base_uri": "https://localhost:8080/"
        },
        "id": "XMFd1D6XOACh",
        "outputId": "940ff2f4-021b-4d21-c272-36825f001a41"
      },
      "source": [
        "x = 5.5\n",
        "y = \"John\"\n",
        "print(type(x))\n",
        "print(type(y))"
      ],
      "execution_count": 12,
      "outputs": [
        {
          "output_type": "stream",
          "text": [
            "<class 'float'>\n",
            "<class 'str'>\n"
          ],
          "name": "stdout"
        }
      ]
    },
    {
      "cell_type": "code",
      "metadata": {
        "colab": {
          "base_uri": "https://localhost:8080/"
        },
        "id": "U1MCTLa1O6zs",
        "outputId": "7b092825-c571-4ed7-a0db-7c40fb987900"
      },
      "source": [
        "x = y= z = \"one\",\"two\",\"three\"\n",
        "print(x,y,z)"
      ],
      "execution_count": 14,
      "outputs": [
        {
          "output_type": "stream",
          "text": [
            "('one', 'two', 'three') ('one', 'two', 'three') ('one', 'two', 'three')\n"
          ],
          "name": "stdout"
        }
      ]
    },
    {
      "cell_type": "code",
      "metadata": {
        "colab": {
          "base_uri": "https://localhost:8080/"
        },
        "id": "dEqd7sVHRZ4j",
        "outputId": "4d8154bb-2401-4e4f-a40b-52a514c215df"
      },
      "source": [
        "x = \"Super fun\"\n",
        "print(\"Python is \"+x)"
      ],
      "execution_count": 15,
      "outputs": [
        {
          "output_type": "stream",
          "text": [
            "Python is Super fun\n"
          ],
          "name": "stdout"
        }
      ]
    },
    {
      "cell_type": "code",
      "metadata": {
        "colab": {
          "base_uri": "https://localhost:8080/"
        },
        "id": "OvoalaI7XX48",
        "outputId": "d4ca9032-c63a-4023-aeae-3de3fb0f34b5"
      },
      "source": [
        "x = 8\n",
        "y = 4\n",
        "sum = x + y\n",
        "print(sum)"
      ],
      "execution_count": 16,
      "outputs": [
        {
          "output_type": "stream",
          "text": [
            "12\n"
          ],
          "name": "stdout"
        }
      ]
    },
    {
      "cell_type": "code",
      "metadata": {
        "colab": {
          "base_uri": "https://localhost:8080/"
        },
        "id": "uSNcecJPXiAC",
        "outputId": "6c107d70-839e-4d47-8a64-859431d96396"
      },
      "source": [
        "x = 8\n",
        "y = 2\n",
        "if x > y: \n",
        "  print(\"x is greater than y\")\n",
        "else: \n",
        "  print(\"error\")"
      ],
      "execution_count": 19,
      "outputs": [
        {
          "output_type": "stream",
          "text": [
            "x is greater than y\n"
          ],
          "name": "stdout"
        }
      ]
    },
    {
      "cell_type": "code",
      "metadata": {
        "colab": {
          "base_uri": "https://localhost:8080/"
        },
        "id": "EDQ-Y5IFXxJ5",
        "outputId": "f7ce5a50-6c75-4c63-9500-37eb7c1d9f6d"
      },
      "source": [
        "x = 2\n",
        "y = 8\n",
        "if x > y: \n",
        "  print(\"x is greater than y\")\n",
        "else: \n",
        "  print(\"error\")"
      ],
      "execution_count": 20,
      "outputs": [
        {
          "output_type": "stream",
          "text": [
            "error\n"
          ],
          "name": "stdout"
        }
      ]
    },
    {
      "cell_type": "code",
      "metadata": {
        "id": "xVivPNNHYAwx"
      },
      "source": [
        ""
      ],
      "execution_count": null,
      "outputs": []
    }
  ]
}